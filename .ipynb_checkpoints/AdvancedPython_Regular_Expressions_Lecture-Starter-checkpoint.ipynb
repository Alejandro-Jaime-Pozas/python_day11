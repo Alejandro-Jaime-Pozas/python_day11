{
 "cells": [
  {
   "cell_type": "markdown",
   "metadata": {},
   "source": [
    "# Regular Expressions"
   ]
  },
  {
   "cell_type": "markdown",
   "metadata": {},
   "source": [
    "# Tasks today:\n",
    "1) <b>Importing</b> <br>\n",
    "2) <b>Using Regular Expressions</b> <br>\n",
    " &nbsp;&nbsp;&nbsp;&nbsp; a) re.compile() <br>\n",
    " &nbsp;&nbsp;&nbsp;&nbsp; b) re.match() <br>\n",
    " &nbsp;&nbsp;&nbsp;&nbsp; c) re.findall() <br>\n",
    " &nbsp;&nbsp;&nbsp;&nbsp; d) re.search() <br>\n",
    "3) <b>Sets</b> <br>\n",
    " &nbsp;&nbsp;&nbsp;&nbsp; a) Integer Ranges <br>\n",
    " &nbsp;&nbsp;&nbsp;&nbsp; b) Character Ranges <br>\n",
    "4) <b>Counting Occurences</b> <br>\n",
    " &nbsp;&nbsp;&nbsp;&nbsp; a) {x} <br>\n",
    " &nbsp;&nbsp;&nbsp;&nbsp; b) {, x} <br>\n",
    " &nbsp;&nbsp;&nbsp;&nbsp; c) {?} <br>\n",
    " &nbsp;&nbsp;&nbsp;&nbsp; d) {*} <br>\n",
    " &nbsp;&nbsp;&nbsp;&nbsp; e) {+} <br>\n",
    "5) <b>In-Class Exercise #1</b> <br>\n",
    "6) <b>Escaping Characters</b> <br>\n",
    "7) <b>Grouping</b> <br>\n",
    "8) <b>In-Class Exercise #2</b> <br>\n",
    "9) <b>Opening a File</b> <br>\n",
    " &nbsp;&nbsp;&nbsp;&nbsp; a) open() <br>\n",
    " &nbsp;&nbsp;&nbsp;&nbsp; b) with open() <br>\n",
    " &nbsp;&nbsp;&nbsp;&nbsp; c) re.match() <br>\n",
    " &nbsp;&nbsp;&nbsp;&nbsp; d) re.search() <br>\n",
    " &nbsp;&nbsp;&nbsp;&nbsp; e) Store the String in a Variable <br>\n",
    "10) <b>Regex Project</b> <br>"
   ]
  },
  {
   "cell_type": "markdown",
   "metadata": {},
   "source": [
    "### Importing <br>\n",
    "<p>Regular Expressions are universal throughout most programming languages... They are generally imported through the module 're'.</p>"
   ]
  },
  {
   "cell_type": "code",
   "execution_count": 1,
   "metadata": {},
   "outputs": [],
   "source": [
    "# import re\n",
    "import re"
   ]
  },
  {
   "cell_type": "code",
   "execution_count": 3,
   "metadata": {
    "scrolled": true
   },
   "outputs": [
    {
     "name": "stdout",
     "output_type": "stream",
     "text": [
      "<module 're' from 'C:\\\\ProgramData\\\\Anaconda3\\\\lib\\\\re.py'>\n"
     ]
    }
   ],
   "source": [
    "print(re)"
   ]
  },
  {
   "cell_type": "markdown",
   "metadata": {},
   "source": [
    "### Using Regular Expressions <br>\n",
    "<p>Regular expressions give us the ability to search for patterns within text, strings, files, etc. They serve several uses, such as; security measures, searching, filtering, pattern recognition, and more...</p>"
   ]
  },
  {
   "cell_type": "markdown",
   "metadata": {},
   "source": [
    "##### re.compile()"
   ]
  },
  {
   "cell_type": "code",
   "execution_count": 6,
   "metadata": {},
   "outputs": [
    {
     "name": "stdout",
     "output_type": "stream",
     "text": [
      "re.compile('abcd')\n",
      "<class 're.Pattern'>\n"
     ]
    }
   ],
   "source": [
    "# using compile, predetermines the string to be used in regular expression methods\n",
    "blah = re.compile('abcd')\n",
    "print(blah)\n",
    "print(type(blah))\n"
   ]
  },
  {
   "cell_type": "markdown",
   "metadata": {},
   "source": [
    "##### re.match()"
   ]
  },
  {
   "cell_type": "code",
   "execution_count": 29,
   "metadata": {},
   "outputs": [],
   "source": [
    "# re.match only finds a match starting at string 0."
   ]
  },
  {
   "cell_type": "code",
   "execution_count": 9,
   "metadata": {},
   "outputs": [
    {
     "name": "stdout",
     "output_type": "stream",
     "text": [
      "Help on built-in function match:\n",
      "\n",
      "match(string, pos=0, endpos=9223372036854775807) method of re.Pattern instance\n",
      "    Matches zero or more characters at the beginning of the string.\n",
      "\n"
     ]
    }
   ],
   "source": [
    "help(blah.match)"
   ]
  },
  {
   "cell_type": "code",
   "execution_count": 13,
   "metadata": {},
   "outputs": [
    {
     "name": "stdout",
     "output_type": "stream",
     "text": [
      "<re.Match object; span=(0, 4), match='abcd'>\n"
     ]
    }
   ],
   "source": [
    "# calling the match fn from the pattern object (re.compile)\n",
    "match = blah.match('abcdefg')\n",
    "print(match)"
   ]
  },
  {
   "cell_type": "code",
   "execution_count": 17,
   "metadata": {},
   "outputs": [
    {
     "name": "stdout",
     "output_type": "stream",
     "text": [
      "None\n"
     ]
    }
   ],
   "source": [
    "# returns None if string not in match fn\n",
    "no_match = blah.match('zabcdefg')\n",
    "print(no_match)"
   ]
  },
  {
   "cell_type": "code",
   "execution_count": 18,
   "metadata": {},
   "outputs": [
    {
     "name": "stdout",
     "output_type": "stream",
     "text": [
      "<re.Match object; span=(0, 4), match='abcd'>\n"
     ]
    }
   ],
   "source": [
    "# calling the match fn directly from re.module (vs pattern obj) pattern is first arg\n",
    "match_again = re.match('abcd', 'abcdefgh')\n",
    "print(match_again)"
   ]
  },
  {
   "cell_type": "markdown",
   "metadata": {},
   "source": [
    "##### re.search()"
   ]
  },
  {
   "cell_type": "code",
   "execution_count": 28,
   "metadata": {},
   "outputs": [],
   "source": [
    "# search only finds the first match in string, not multiple (findall)"
   ]
  },
  {
   "cell_type": "code",
   "execution_count": 21,
   "metadata": {},
   "outputs": [
    {
     "name": "stdout",
     "output_type": "stream",
     "text": [
      "re.compile('abcd')\n"
     ]
    }
   ],
   "source": [
    "print(pattern)"
   ]
  },
  {
   "cell_type": "code",
   "execution_count": 23,
   "metadata": {
    "scrolled": true
   },
   "outputs": [
    {
     "name": "stdout",
     "output_type": "stream",
     "text": [
      "Help on built-in function search:\n",
      "\n",
      "search(string, pos=0, endpos=9223372036854775807) method of re.Pattern instance\n",
      "    Scan through string looking for a match, and return a corresponding match object instance.\n",
      "    \n",
      "    Return None if no position in the string matches.\n",
      "\n"
     ]
    }
   ],
   "source": [
    "help(pattern.search)"
   ]
  },
  {
   "cell_type": "code",
   "execution_count": 27,
   "metadata": {},
   "outputs": [
    {
     "name": "stdout",
     "output_type": "stream",
     "text": [
      "<re.Match object; span=(8, 12), match='abcd'>\n"
     ]
    }
   ],
   "source": [
    "# returns the first match that it finds when scanning through the str\n",
    "# returns None if no pattern found\n",
    "search = pattern.search('123 123 abcde dacndcaasc sadcsdac')\n",
    "print(search)"
   ]
  },
  {
   "cell_type": "code",
   "execution_count": 42,
   "metadata": {},
   "outputs": [
    {
     "name": "stdout",
     "output_type": "stream",
     "text": [
      "None\n"
     ]
    }
   ],
   "source": [
    "search2 = pattern.search('sajkdfkasdkm smdkm sd fakfm d')\n",
    "print(search2)"
   ]
  },
  {
   "cell_type": "markdown",
   "metadata": {},
   "source": [
    "##### re.findall()"
   ]
  },
  {
   "cell_type": "code",
   "execution_count": 34,
   "metadata": {},
   "outputs": [
    {
     "name": "stdout",
     "output_type": "stream",
     "text": [
      "Help on function findall in module re:\n",
      "\n",
      "findall(pattern, string, flags=0)\n",
      "    Return a list of all non-overlapping matches in the string.\n",
      "    \n",
      "    If one or more capturing groups are present in the pattern, return\n",
      "    a list of groups; this will be a list of tuples if the pattern\n",
      "    has more than one group.\n",
      "    \n",
      "    Empty matches are included in the result.\n",
      "\n"
     ]
    }
   ],
   "source": [
    "help(re.findall)"
   ]
  },
  {
   "cell_type": "code",
   "execution_count": 43,
   "metadata": {},
   "outputs": [
    {
     "name": "stdout",
     "output_type": "stream",
     "text": [
      "['abcd', 'abcd', 'abcd', 'abcd']\n"
     ]
    }
   ],
   "source": [
    "pfindall = pattern.findall('123 123 abcdef abcd savs dabcdsal zzzabcd')\n",
    "print(pfindall)"
   ]
  },
  {
   "cell_type": "markdown",
   "metadata": {},
   "source": [
    "### Sets <br>\n",
    "<p>The following cells will allow you to use regular expressions to search for certain values within a range such as numbers 1 through 4.</p>"
   ]
  },
  {
   "cell_type": "markdown",
   "metadata": {},
   "source": [
    "##### [a-z] or [A-Z] - any lowercase/uppercase letters from a to z<br/>[^2] - anything that's not 2"
   ]
  },
  {
   "cell_type": "markdown",
   "metadata": {},
   "source": [
    "##### Integer Ranges"
   ]
  },
  {
   "cell_type": "code",
   "execution_count": 46,
   "metadata": {},
   "outputs": [
    {
     "name": "stdout",
     "output_type": "stream",
     "text": [
      "['12', '34', '56', '08']\n"
     ]
    }
   ],
   "source": [
    "pint = re.compile(r'[0-5][0-9]')\n",
    "\n",
    "my_nums = pint.findall('12345678908765')\n",
    "print(my_nums)"
   ]
  },
  {
   "cell_type": "code",
   "execution_count": 47,
   "metadata": {},
   "outputs": [
    {
     "name": "stdout",
     "output_type": "stream",
     "text": [
      "['6', '7', '8', '9', '8', '7', '6']\n"
     ]
    }
   ],
   "source": [
    "pint = re.compile(r'[^0-5]')\n",
    "\n",
    "my_nums = pint.findall('12345678908765')\n",
    "print(my_nums)"
   ]
  },
  {
   "cell_type": "markdown",
   "metadata": {},
   "source": [
    "##### Character Ranges"
   ]
  },
  {
   "cell_type": "code",
   "execution_count": 49,
   "metadata": {},
   "outputs": [
    {
     "name": "stdout",
     "output_type": "stream",
     "text": [
      "['He', 'Th', 'Mr', 'An']\n"
     ]
    }
   ],
   "source": [
    "# pattern is 2 characters a capital letter followed by a lowercase\n",
    "char_pattern = re.compile('[A-Z][a-z]')\n",
    "\n",
    "found = char_pattern.findall('Hello There Mr. Anderson')\n",
    "print(found)"
   ]
  },
  {
   "cell_type": "code",
   "execution_count": 58,
   "metadata": {},
   "outputs": [
    {
     "name": "stdout",
     "output_type": "stream",
     "text": [
      "['H', 'e', 'l', 'l', 'o', 'T', 'h', 'e', 'r', 'e', 'M', 'r', 'A', 'n', 'd', 'e', 'r', 's', 'o', 'n']\n"
     ]
    }
   ],
   "source": [
    "all_alphabet = re.compile('[A-Za-z]')\n",
    "# all_alphabet = re.compile('[A-z]') this also works ^\n",
    "# all_alphabet = re.compile('[a-Z]') this doesnt work ^\n",
    "\n",
    "letters = all_alphabet.findall('Hello There Mr. Anderson')\n",
    "print(letters)"
   ]
  },
  {
   "cell_type": "code",
   "execution_count": 60,
   "metadata": {},
   "outputs": [
    {
     "name": "stdout",
     "output_type": "stream",
     "text": [
      "['T', 'h', 's', ' ', 'w', 'b', 's', 't', ' ', 's', 't', 'n', 'k', 's', ' ', 'l', 'l']\n",
      "Ths wbst stnks ll\n"
     ]
    }
   ],
   "source": [
    "non_vowels = re.compile('[^AEIOUaeiou]')\n",
    "\n",
    "fixed_troll = non_vowels.findall('This website stinks lol')\n",
    "print(fixed_troll)\n",
    "print(''.join(fixed_troll))"
   ]
  },
  {
   "cell_type": "code",
   "execution_count": 56,
   "metadata": {},
   "outputs": [
    {
     "data": {
      "text/plain": [
       "65"
      ]
     },
     "execution_count": 56,
     "metadata": {},
     "output_type": "execute_result"
    }
   ],
   "source": [
    "ord('A')"
   ]
  },
  {
   "cell_type": "code",
   "execution_count": 61,
   "metadata": {
    "scrolled": true
   },
   "outputs": [
    {
     "data": {
      "text/plain": [
       "97"
      ]
     },
     "execution_count": 61,
     "metadata": {},
     "output_type": "execute_result"
    }
   ],
   "source": [
    "ord('a')"
   ]
  },
  {
   "cell_type": "markdown",
   "metadata": {},
   "source": [
    "### Counting Occurences"
   ]
  },
  {
   "cell_type": "markdown",
   "metadata": {},
   "source": [
    "##### {x} - something that occurs {num_of_times}"
   ]
  },
  {
   "cell_type": "code",
   "execution_count": 64,
   "metadata": {
    "scrolled": true
   },
   "outputs": [
    {
     "name": "stdout",
     "output_type": "stream",
     "text": [
      "['12343', '56675']\n"
     ]
    }
   ],
   "source": [
    "# {} only looks for occurance in consecutive order, does not stop at c\n",
    "my_addresses = '555 circle dr, 1234321 st 56675; asdfkj num 555 5555'\n",
    "\n",
    "pattern = re.compile('[0-9]{5}')\n",
    "\n",
    "zipcodes = pattern.findall(my_addresses)\n",
    "print(zipcodes)"
   ]
  },
  {
   "cell_type": "markdown",
   "metadata": {},
   "source": [
    "##### {x, x} - something that occurs between x and x times"
   ]
  },
  {
   "cell_type": "code",
   "execution_count": 63,
   "metadata": {},
   "outputs": [
    {
     "name": "stdout",
     "output_type": "stream",
     "text": [
      "['555', '12343', '56675', '555', '5555']\n"
     ]
    }
   ],
   "source": [
    "my_new_addresses = '555 circle dr, 1234321 st 56675; asdfkj num 555 5555'\n",
    "# 3 to 5 times\n",
    "three_to_five = re.compile('[0-9]{3,5}')\n",
    "\n",
    "found_nums = three_to_five.findall(my_new_addresses)\n",
    "\n",
    "print(found_nums)"
   ]
  },
  {
   "cell_type": "markdown",
   "metadata": {},
   "source": [
    "##### ? - something that occurs 0 or 1 time"
   ]
  },
  {
   "cell_type": "code",
   "execution_count": 69,
   "metadata": {},
   "outputs": [
    {
     "name": "stdout",
     "output_type": "stream",
     "text": [
      "['Mr', 'Mrs', 'Ms', 'M', 'M']\n"
     ]
    }
   ],
   "source": [
    "# Mrs, Mr, M, Ms\n",
    "my_pattern = re.compile('Mr?s?')\n",
    "\n",
    "found_pattern = my_pattern.findall('Hello Mr. and Mrsssss. Anderson, have you seen Ms. Smith? My favorite letter is M')\n",
    "print(found_pattern)"
   ]
  },
  {
   "cell_type": "markdown",
   "metadata": {},
   "source": [
    "##### * - something that occurs at least 0 times"
   ]
  },
  {
   "cell_type": "code",
   "execution_count": 74,
   "metadata": {},
   "outputs": [
    {
     "name": "stdout",
     "output_type": "stream",
     "text": [
      "['Mr', 'Mrrrrrrrrrrrssssssssss', 'Ms', 'M', 'M']\n"
     ]
    }
   ],
   "source": [
    "# Mrs, Mr, M, Ms, (r and s followed by any number of r's and s's consecutively)\n",
    "new_pattern = re.compile(\"Mr*s*\") # Mr or Mrrrrrrrrrrrr, Mrs or Mrssssss, M, Mssssss, Mrrrrrrrrrrssssssssss\n",
    "\n",
    "found_pattern = new_pattern.findall('Hello Mr. and Mrrrrrrrrrrrssssssssss. Anderson, have you seen Ms. Smith? My favorite letter is M')\n",
    "print(found_pattern)"
   ]
  },
  {
   "cell_type": "markdown",
   "metadata": {},
   "source": [
    "##### + - something that occurs at least once"
   ]
  },
  {
   "cell_type": "code",
   "execution_count": 77,
   "metadata": {},
   "outputs": [
    {
     "name": "stdout",
     "output_type": "stream",
     "text": [
      "['Mrrrrrrrrrrrssssssssss', 'Mrs']\n"
     ]
    }
   ],
   "source": [
    "my_pattern = re.compile('Mr+s+')\n",
    "\n",
    "found_pattern = my_pattern.findall('Hello Mr. and Mrrrrrrrrrrrssssssssss. Anderson, have you seen Mrs. Smith? My favorite letter is M')\n",
    "print(found_pattern)"
   ]
  },
  {
   "cell_type": "markdown",
   "metadata": {},
   "source": [
    "##### In-class exercise 1: \n",
    "\n",
    "Use a regular expression to find every number in the given string"
   ]
  },
  {
   "cell_type": "code",
   "execution_count": 80,
   "metadata": {},
   "outputs": [
    {
     "name": "stdout",
     "output_type": "stream",
     "text": [
      "['10909090', '1', '2']\n"
     ]
    }
   ],
   "source": [
    "my_string = \"This string has 10909090 numbers, but it is only 1 string. I hope you solve this 2day.\"\n",
    "\n",
    "# Output: ['10909090','1','2']\n",
    "\n",
    "pattern = re.compile('[0-9]+')\n",
    "\n",
    "found_pattern = pattern.findall(my_string)\n",
    "print(found_pattern)"
   ]
  },
  {
   "cell_type": "markdown",
   "metadata": {},
   "source": [
    "### Escaping Characters"
   ]
  },
  {
   "cell_type": "code",
   "execution_count": 87,
   "metadata": {},
   "outputs": [
    {
     "data": {
      "text/plain": [
       "['?', '?', '?', '?', '?', '?']"
      ]
     },
     "execution_count": 87,
     "metadata": {},
     "output_type": "execute_result"
    }
   ],
   "source": [
    "my_question = 'how to find question marks    ??????'\n",
    "\n",
    "re.findall('\\?', my_question)\n",
    "\n",
    "# re.findall('?', my_question) # this doesnt work"
   ]
  },
  {
   "cell_type": "markdown",
   "metadata": {},
   "source": [
    "##### \\w - look for any Unicode character<br/>\\W - look for anything that isnt a Unicode character\n",
    "\n",
    "[History on Unicode](http://unicode.org/standard/WhatIsUnicode.html)\n",
    "\n",
    "[More on Unicode Characters](https://en.wikipedia.org/wiki/List_of_Unicode_characters)"
   ]
  },
  {
   "cell_type": "code",
   "execution_count": 90,
   "metadata": {},
   "outputs": [
    {
     "name": "stdout",
     "output_type": "stream",
     "text": [
      "['T', 'h', 'i', 's', 'i', 's', 'a', 's', 'e', 'n', 't', 'e', 'n', 'c', 'e', 'w', 'i', 't', 'h', 'a', 'n', 'e', 'x', 'c', 'l', 'a', 'm', 'a', 't', 'i', 'o', 'n', 'm', 'a', 'r', 'k', 'a', 't', 't', 'h', 'e', 'e', 'n', 'd', 'f', 'i', 'r', 's', 't', '_', 'n', 'a', 'm', 'e', '1', '2', '3', '3', '4', '5']\n"
     ]
    }
   ],
   "source": [
    "sentence = 'This is a sentence. with an, exclamation mark at the end! \\n first_name ++= 123-345'\n",
    "\n",
    "letter_pattern = re.compile('\\w') # equal to '[a-zA-Z0-9]'\n",
    "\n",
    "letters = letter_pattern.findall(sentence)\n",
    "print(letters)"
   ]
  },
  {
   "cell_type": "code",
   "execution_count": 93,
   "metadata": {},
   "outputs": [
    {
     "name": "stdout",
     "output_type": "stream",
     "text": [
      "['This', 'is', 'a', 'sentence', 'wih', '88uschak', 'characters', 'alright', 'this', 'is', 'over']\n"
     ]
    }
   ],
   "source": [
    "word_pattern = re.compile('\\w+')\n",
    "\n",
    "words = word_pattern.findall('This is a sentence wih =-+- 88uschak characters...alright this %$#is over.')\n",
    "print(words)"
   ]
  },
  {
   "cell_type": "code",
   "execution_count": 97,
   "metadata": {},
   "outputs": [
    {
     "name": "stdout",
     "output_type": "stream",
     "text": [
      "['This is a sentence wih =-+- 88uschak characters...alright this %$#is over.']\n"
     ]
    }
   ],
   "source": [
    "word_pattern = re.compile('[\\W\\w]+')\n",
    "\n",
    "words = word_pattern.findall('This is a sentence wih =-+- 88uschak characters...alright this %$#is over.')\n",
    "print(words)"
   ]
  },
  {
   "cell_type": "markdown",
   "metadata": {},
   "source": [
    "##### \\d - look for any digit 0-9<br/>\\D - look for anything that isnt a digit"
   ]
  },
  {
   "cell_type": "code",
   "execution_count": 99,
   "metadata": {},
   "outputs": [
    {
     "name": "stdout",
     "output_type": "stream",
     "text": [
      "['2', '2', '8', '8', '1', '2', '0', '2', '2']\n"
     ]
    }
   ],
   "source": [
    "some_string = 'Hello it is 2:28 pm CT on 8/1/2022'\n",
    "\n",
    "pattern = re.compile('\\d') # [0-9]\n",
    "\n",
    "digits = pattern.findall(some_string)\n",
    "print(digits)"
   ]
  },
  {
   "cell_type": "code",
   "execution_count": 102,
   "metadata": {},
   "outputs": [
    {
     "name": "stdout",
     "output_type": "stream",
     "text": [
      "['H', 'e', 'l', 'l', 'o', ' ', 'i', 't', ' ', 'i', 's', ' ', ':', ' ', 'p', 'm', ' ', 'C', 'T', ' ', 'o', 'n', ' ', '/', '/']\n"
     ]
    }
   ],
   "source": [
    "some_string = 'Hello it is 2:28 pm CT on 8/1/2022'\n",
    "\n",
    "pattern = re.compile('\\D') # [0-9]\n",
    "\n",
    "digits = pattern.findall(some_string)\n",
    "print(digits)"
   ]
  },
  {
   "cell_type": "code",
   "execution_count": 101,
   "metadata": {},
   "outputs": [
    {
     "name": "stdout",
     "output_type": "stream",
     "text": [
      "['2', '28', '8', '1', '2022']\n"
     ]
    }
   ],
   "source": [
    "some_string = 'Hello it is 2:28 pm CT on 8/1/2022'\n",
    "\n",
    "pattern = re.compile('\\d+') # [0-9]\n",
    "\n",
    "digits = pattern.findall(some_string)\n",
    "print(digits)"
   ]
  },
  {
   "cell_type": "markdown",
   "metadata": {},
   "source": [
    "##### \\s - look for any white space<br/>\\S - look for anything that isnt whitespace"
   ]
  },
  {
   "cell_type": "code",
   "execution_count": null,
   "metadata": {},
   "outputs": [],
   "source": []
  },
  {
   "cell_type": "code",
   "execution_count": 104,
   "metadata": {
    "scrolled": true
   },
   "outputs": [
    {
     "name": "stdout",
     "output_type": "stream",
     "text": [
      "this is a sentence. \t with a few characteers in \n",
      " \t this is \n",
      " a new line\n",
      "[' ', ' ', ' ', ' ', '\\t', ' ', ' ', ' ', ' ', ' ', ' ', '\\n', ' ', '\\t', ' ', ' ', ' ', '\\n', ' ', ' ', ' ']\n"
     ]
    }
   ],
   "source": [
    "some_string = 'this is a sentence. \\t with a few characteers in \\n \\t this is \\n a new line'\n",
    "\n",
    "pattern = re.compile('\\s') # [\\n\\t\\r\\f\\v]\n",
    "\n",
    "digits = pattern.findall(some_string)\n",
    "print(some_string)\n",
    "print(digits)"
   ]
  },
  {
   "cell_type": "code",
   "execution_count": 106,
   "metadata": {
    "scrolled": false
   },
   "outputs": [
    {
     "name": "stdout",
     "output_type": "stream",
     "text": [
      "this is a sentence. \t with a few characteers in \n",
      " \t this is \n",
      " a new line\n",
      "['t', 'h', 'i', 's', 'i', 's', 'a', 's', 'e', 'n', 't', 'e', 'n', 'c', 'e', '.', 'w', 'i', 't', 'h', 'a', 'f', 'e', 'w', 'c', 'h', 'a', 'r', 'a', 'c', 't', 'e', 'e', 'r', 's', 'i', 'n', 't', 'h', 'i', 's', 'i', 's', 'a', 'n', 'e', 'w', 'l', 'i', 'n', 'e']\n"
     ]
    }
   ],
   "source": [
    "some_string = 'this is a sentence. \\t with a few characteers in \\n \\t this is \\n a new line'\n",
    "\n",
    "pattern = re.compile('\\S') # [\\n\\t\\r\\f\\v]\n",
    "\n",
    "digits = pattern.findall(some_string)\n",
    "print(some_string)\n",
    "print(digits)"
   ]
  },
  {
   "cell_type": "markdown",
   "metadata": {},
   "source": [
    "##### \\b - look for boundaries or edges of a word<br/>\\B - look for anything that isnt a boundary"
   ]
  },
  {
   "cell_type": "code",
   "execution_count": 109,
   "metadata": {},
   "outputs": [
    {
     "name": "stdout",
     "output_type": "stream",
     "text": [
      "Hello\\b\n"
     ]
    }
   ],
   "source": [
    "print(r'Hello\\b')"
   ]
  },
  {
   "cell_type": "code",
   "execution_count": 115,
   "metadata": {},
   "outputs": [
    {
     "name": "stdout",
     "output_type": "stream",
     "text": [
      "the cat knows how to scat. -cat. \n",
      "['cat', 'cat']\n"
     ]
    }
   ],
   "source": [
    "some_string = 'the cat knows how to scat. -cat. '\n",
    "\n",
    "pattern = re.compile(r'\\bcat\\b') # []\n",
    "\n",
    "digits = pattern.findall(some_string)\n",
    "print(some_string)\n",
    "print(digits)"
   ]
  },
  {
   "cell_type": "markdown",
   "metadata": {},
   "source": [
    "### Grouping"
   ]
  },
  {
   "cell_type": "code",
   "execution_count": 116,
   "metadata": {},
   "outputs": [
    {
     "name": "stdout",
     "output_type": "stream",
     "text": [
      "['Max Smith', 'Sam Darnold', 'LeBron James', 'Micheal Jordan', 'Kevin Durant', 'Patrick McCormick']\n"
     ]
    }
   ],
   "source": [
    "my_string_again = \"Max Smith, aaron rodgers, Sam Darnold,LeBron James, Micheal Jordan, Kevin Durant, Patrick McCormick\"\n",
    "\n",
    "# Group of names Regular Expression Compiler\n",
    "name_pattern = re.compile('[A-Z][A-z]+ [A-Z][A-z]+')\n",
    "\n",
    "names = name_pattern.findall(my_string_again)\n",
    "print(names)"
   ]
  },
  {
   "cell_type": "code",
   "execution_count": 118,
   "metadata": {
    "scrolled": true
   },
   "outputs": [
    {
     "name": "stdout",
     "output_type": "stream",
     "text": [
      "[('Max', 'Smith'), ('Sam', 'Darnold'), ('LeBron', 'James'), ('Micheal', 'Jordan'), ('Kevin', 'Durant'), ('Patrick', 'McCormick')]\n"
     ]
    }
   ],
   "source": [
    "# grouping results in tuples. this allows groups to be created\n",
    "\n",
    "my_string_again = \"Max Smith, aaron rodgers, Sam Darnold,LeBron James, Micheal Jordan, Kevin Durant, Patrick McCormick\"\n",
    "\n",
    "# Group of names Regular Expression Compiler\n",
    "name_pattern = re.compile('([A-Z][A-z]+) ([A-Z][A-z]+)')\n",
    "\n",
    "names = name_pattern.findall(my_string_again)\n",
    "print(names)"
   ]
  },
  {
   "cell_type": "code",
   "execution_count": 133,
   "metadata": {
    "scrolled": true
   },
   "outputs": [
    {
     "name": "stdout",
     "output_type": "stream",
     "text": [
      "[('Max', 'Smith'), ('Sam', 'Darnold'), ('LeBron', 'James'), ('Micheal', 'Jordan'), ('Kevin', 'Durant'), ('Patrick', 'McCormick')]\n"
     ]
    }
   ],
   "source": [
    "# to NAME your groups you can put ?P<x_name> to call them later by name\n",
    "\n",
    "my_string_again = \"Max Smith, aaron rodgers, Sam Darnold,LeBron James, Micheal Jordan, Kevin Durant, Patrick McCormick\"\n",
    "\n",
    "# Group of names Regular Expression Compiler\n",
    "name_pattern = re.compile('(?P<first>[A-Z][A-z]+) (?P<last>[A-Z][A-z]+)')\n",
    "\n",
    "names = name_pattern.findall(my_string_again)\n",
    "print(names)"
   ]
  },
  {
   "cell_type": "code",
   "execution_count": 134,
   "metadata": {},
   "outputs": [
    {
     "name": "stdout",
     "output_type": "stream",
     "text": [
      "<re.Match object; span=(0, 9), match='Max Smith'>\n",
      "('Max', 'Smith')\n"
     ]
    }
   ],
   "source": [
    "my_match = name_pattern.match(my_string_again)\n",
    "print(my_match)\n",
    "print(my_match.group(1, 2))"
   ]
  },
  {
   "cell_type": "code",
   "execution_count": 135,
   "metadata": {},
   "outputs": [
    {
     "name": "stdout",
     "output_type": "stream",
     "text": [
      "<re.Match object; span=(0, 9), match='Max Smith'>\n",
      "('Max', 'Smith')\n"
     ]
    }
   ],
   "source": [
    "my_match = name_pattern.match(my_string_again)\n",
    "print(my_match)\n",
    "print(my_match.group('first', 'last'))"
   ]
  },
  {
   "cell_type": "code",
   "execution_count": 121,
   "metadata": {},
   "outputs": [
    {
     "name": "stdout",
     "output_type": "stream",
     "text": [
      "Help on built-in function group:\n",
      "\n",
      "group(...) method of re.Match instance\n",
      "    group([group1, ...]) -> str or tuple.\n",
      "    Return subgroup(s) of the match by indices or names.\n",
      "    For 0 returns the entire match.\n",
      "\n"
     ]
    }
   ],
   "source": [
    "help(my_match.group)"
   ]
  },
  {
   "cell_type": "markdown",
   "metadata": {},
   "source": [
    "##### In-class Exercise 2:\n",
    "\n",
    "Write a function using regular expressions to find the domain name in the given email addresses (and return None for the invalid email addresses)<br><b>HINT: Use '|' for either or</b>"
   ]
  },
  {
   "cell_type": "code",
   "execution_count": 166,
   "metadata": {
    "scrolled": true
   },
   "outputs": [
    {
     "name": "stdout",
     "output_type": "stream",
     "text": [
      "None\n",
      "pocohontas1776@gmail.com\n",
      "None\n",
      "yourfavoriteband@g6.org\n",
      "None\n"
     ]
    }
   ],
   "source": [
    "my_emails = [\"jordanw@codingtemple.orgcom\", \"pocohontas1776@gmail.com\", \"helloworld@aol..com\",\n",
    "             \"yourfavoriteband@g6.org\", \"@codingtemple.com\"]\n",
    "\n",
    "# You can also use the $ at the end of your compile expression -- this stops the search\n",
    "\n",
    "#Expected output:\n",
    "#None\n",
    "#pocohontas1776@gmail.com\n",
    "#None\n",
    "#yourfavoriteband@g6.org\n",
    "#None\n",
    "\n",
    "def valid_email(email):\n",
    "#     return email\n",
    "    pattern = re.compile('\\w+.?\\w+@\\w+.\\w{3}$')\n",
    "    my_email = pattern.match(email)\n",
    "    if my_email:\n",
    "        return (email)\n",
    "    else:\n",
    "        return None\n",
    "\n",
    "for e in my_emails:\n",
    "    print(valid_email(e))"
   ]
  },
  {
   "cell_type": "markdown",
   "metadata": {},
   "source": [
    "### Opening a File <br>\n",
    "<p>Python gives us a couple ways to import files, below are the two used most often.</p>"
   ]
  },
  {
   "cell_type": "markdown",
   "metadata": {},
   "source": [
    "##### open()"
   ]
  },
  {
   "cell_type": "code",
   "execution_count": 168,
   "metadata": {},
   "outputs": [
    {
     "name": "stdout",
     "output_type": "stream",
     "text": [
      "Help on built-in function open in module io:\n",
      "\n",
      "open(file, mode='r', buffering=-1, encoding=None, errors=None, newline=None, closefd=True, opener=None)\n",
      "    Open file and return a stream.  Raise OSError upon failure.\n",
      "    \n",
      "    file is either a text or byte string giving the name (and the path\n",
      "    if the file isn't in the current working directory) of the file to\n",
      "    be opened or an integer file descriptor of the file to be\n",
      "    wrapped. (If a file descriptor is given, it is closed when the\n",
      "    returned I/O object is closed, unless closefd is set to False.)\n",
      "    \n",
      "    mode is an optional string that specifies the mode in which the file\n",
      "    is opened. It defaults to 'r' which means open for reading in text\n",
      "    mode.  Other common values are 'w' for writing (truncating the file if\n",
      "    it already exists), 'x' for creating and writing to a new file, and\n",
      "    'a' for appending (which on some Unix systems, means that all writes\n",
      "    append to the end of the file regardless of the current seek position).\n",
      "    In text mode, if encoding is not specified the encoding used is platform\n",
      "    dependent: locale.getpreferredencoding(False) is called to get the\n",
      "    current locale encoding. (For reading and writing raw bytes use binary\n",
      "    mode and leave encoding unspecified.) The available modes are:\n",
      "    \n",
      "    ========= ===============================================================\n",
      "    Character Meaning\n",
      "    --------- ---------------------------------------------------------------\n",
      "    'r'       open for reading (default)\n",
      "    'w'       open for writing, truncating the file first\n",
      "    'x'       create a new file and open it for writing\n",
      "    'a'       open for writing, appending to the end of the file if it exists\n",
      "    'b'       binary mode\n",
      "    't'       text mode (default)\n",
      "    '+'       open a disk file for updating (reading and writing)\n",
      "    'U'       universal newline mode (deprecated)\n",
      "    ========= ===============================================================\n",
      "    \n",
      "    The default mode is 'rt' (open for reading text). For binary random\n",
      "    access, the mode 'w+b' opens and truncates the file to 0 bytes, while\n",
      "    'r+b' opens the file without truncation. The 'x' mode implies 'w' and\n",
      "    raises an `FileExistsError` if the file already exists.\n",
      "    \n",
      "    Python distinguishes between files opened in binary and text modes,\n",
      "    even when the underlying operating system doesn't. Files opened in\n",
      "    binary mode (appending 'b' to the mode argument) return contents as\n",
      "    bytes objects without any decoding. In text mode (the default, or when\n",
      "    't' is appended to the mode argument), the contents of the file are\n",
      "    returned as strings, the bytes having been first decoded using a\n",
      "    platform-dependent encoding or using the specified encoding if given.\n",
      "    \n",
      "    'U' mode is deprecated and will raise an exception in future versions\n",
      "    of Python.  It has no effect in Python 3.  Use newline to control\n",
      "    universal newlines mode.\n",
      "    \n",
      "    buffering is an optional integer used to set the buffering policy.\n",
      "    Pass 0 to switch buffering off (only allowed in binary mode), 1 to select\n",
      "    line buffering (only usable in text mode), and an integer > 1 to indicate\n",
      "    the size of a fixed-size chunk buffer.  When no buffering argument is\n",
      "    given, the default buffering policy works as follows:\n",
      "    \n",
      "    * Binary files are buffered in fixed-size chunks; the size of the buffer\n",
      "      is chosen using a heuristic trying to determine the underlying device's\n",
      "      \"block size\" and falling back on `io.DEFAULT_BUFFER_SIZE`.\n",
      "      On many systems, the buffer will typically be 4096 or 8192 bytes long.\n",
      "    \n",
      "    * \"Interactive\" text files (files for which isatty() returns True)\n",
      "      use line buffering.  Other text files use the policy described above\n",
      "      for binary files.\n",
      "    \n",
      "    encoding is the name of the encoding used to decode or encode the\n",
      "    file. This should only be used in text mode. The default encoding is\n",
      "    platform dependent, but any encoding supported by Python can be\n",
      "    passed.  See the codecs module for the list of supported encodings.\n",
      "    \n",
      "    errors is an optional string that specifies how encoding errors are to\n",
      "    be handled---this argument should not be used in binary mode. Pass\n",
      "    'strict' to raise a ValueError exception if there is an encoding error\n",
      "    (the default of None has the same effect), or pass 'ignore' to ignore\n",
      "    errors. (Note that ignoring encoding errors can lead to data loss.)\n",
      "    See the documentation for codecs.register or run 'help(codecs.Codec)'\n",
      "    for a list of the permitted encoding error strings.\n",
      "    \n",
      "    newline controls how universal newlines works (it only applies to text\n",
      "    mode). It can be None, '', '\\n', '\\r', and '\\r\\n'.  It works as\n",
      "    follows:\n",
      "    \n",
      "    * On input, if newline is None, universal newlines mode is\n",
      "      enabled. Lines in the input can end in '\\n', '\\r', or '\\r\\n', and\n",
      "      these are translated into '\\n' before being returned to the\n",
      "      caller. If it is '', universal newline mode is enabled, but line\n",
      "      endings are returned to the caller untranslated. If it has any of\n",
      "      the other legal values, input lines are only terminated by the given\n",
      "      string, and the line ending is returned to the caller untranslated.\n",
      "    \n",
      "    * On output, if newline is None, any '\\n' characters written are\n",
      "      translated to the system default line separator, os.linesep. If\n",
      "      newline is '' or '\\n', no translation takes place. If newline is any\n",
      "      of the other legal values, any '\\n' characters written are translated\n",
      "      to the given string.\n",
      "    \n",
      "    If closefd is False, the underlying file descriptor will be kept open\n",
      "    when the file is closed. This does not work when a file name is given\n",
      "    and must be True in that case.\n",
      "    \n",
      "    A custom opener can be used by passing a callable as *opener*. The\n",
      "    underlying file descriptor for the file object is then obtained by\n",
      "    calling *opener* with (*file*, *flags*). *opener* must return an open\n",
      "    file descriptor (passing os.open as *opener* results in functionality\n",
      "    similar to passing None).\n",
      "    \n",
      "    open() returns a file object whose type depends on the mode, and\n",
      "    through which the standard file operations such as reading and writing\n",
      "    are performed. When open() is used to open a file in a text mode ('w',\n",
      "    'r', 'wt', 'rt', etc.), it returns a TextIOWrapper. When used to open\n",
      "    a file in a binary mode, the returned class varies: in read binary\n",
      "    mode, it returns a BufferedReader; in write binary and append binary\n",
      "    modes, it returns a BufferedWriter, and in read/write mode, it returns\n",
      "    a BufferedRandom.\n",
      "    \n",
      "    It is also possible to use a string or bytearray as a file for both\n",
      "    reading and writing. For strings StringIO can be used like a file\n",
      "    opened in a text mode, and for bytes a BytesIO can be used like a file\n",
      "    opened in a binary mode.\n",
      "\n"
     ]
    }
   ],
   "source": [
    "help(open)"
   ]
  },
  {
   "cell_type": "code",
   "execution_count": 170,
   "metadata": {
    "scrolled": false
   },
   "outputs": [
    {
     "name": "stdout",
     "output_type": "stream",
     "text": [
      "<_io.TextIOWrapper name='names.txt' mode='r' encoding='cp1252'>\n"
     ]
    },
    {
     "data": {
      "text/plain": [
       "<_io.TextIOWrapper name='names.txt' mode='r' encoding='cp1252'>"
      ]
     },
     "execution_count": 170,
     "metadata": {},
     "output_type": "execute_result"
    }
   ],
   "source": [
    "file = open('names.txt')\n",
    "\n",
    "print(file)\n",
    "\n",
    "file"
   ]
  },
  {
   "cell_type": "code",
   "execution_count": 171,
   "metadata": {},
   "outputs": [
    {
     "name": "stdout",
     "output_type": "stream",
     "text": [
      "Help on TextIOWrapper object:\n",
      "\n",
      "class TextIOWrapper(_TextIOBase)\n",
      " |  TextIOWrapper(buffer, encoding=None, errors=None, newline=None, line_buffering=False, write_through=False)\n",
      " |  \n",
      " |  Character and line based layer over a BufferedIOBase object, buffer.\n",
      " |  \n",
      " |  encoding gives the name of the encoding that the stream will be\n",
      " |  decoded or encoded with. It defaults to locale.getpreferredencoding(False).\n",
      " |  \n",
      " |  errors determines the strictness of encoding and decoding (see\n",
      " |  help(codecs.Codec) or the documentation for codecs.register) and\n",
      " |  defaults to \"strict\".\n",
      " |  \n",
      " |  newline controls how line endings are handled. It can be None, '',\n",
      " |  '\\n', '\\r', and '\\r\\n'.  It works as follows:\n",
      " |  \n",
      " |  * On input, if newline is None, universal newlines mode is\n",
      " |    enabled. Lines in the input can end in '\\n', '\\r', or '\\r\\n', and\n",
      " |    these are translated into '\\n' before being returned to the\n",
      " |    caller. If it is '', universal newline mode is enabled, but line\n",
      " |    endings are returned to the caller untranslated. If it has any of\n",
      " |    the other legal values, input lines are only terminated by the given\n",
      " |    string, and the line ending is returned to the caller untranslated.\n",
      " |  \n",
      " |  * On output, if newline is None, any '\\n' characters written are\n",
      " |    translated to the system default line separator, os.linesep. If\n",
      " |    newline is '' or '\\n', no translation takes place. If newline is any\n",
      " |    of the other legal values, any '\\n' characters written are translated\n",
      " |    to the given string.\n",
      " |  \n",
      " |  If line_buffering is True, a call to flush is implied when a call to\n",
      " |  write contains a newline character.\n",
      " |  \n",
      " |  Method resolution order:\n",
      " |      TextIOWrapper\n",
      " |      _TextIOBase\n",
      " |      _IOBase\n",
      " |      builtins.object\n",
      " |  \n",
      " |  Methods defined here:\n",
      " |  \n",
      " |  __init__(self, /, *args, **kwargs)\n",
      " |      Initialize self.  See help(type(self)) for accurate signature.\n",
      " |  \n",
      " |  __next__(self, /)\n",
      " |      Implement next(self).\n",
      " |  \n",
      " |  __repr__(self, /)\n",
      " |      Return repr(self).\n",
      " |  \n",
      " |  close(self, /)\n",
      " |      Flush and close the IO object.\n",
      " |      \n",
      " |      This method has no effect if the file is already closed.\n",
      " |  \n",
      " |  detach(self, /)\n",
      " |      Separate the underlying buffer from the TextIOBase and return it.\n",
      " |      \n",
      " |      After the underlying buffer has been detached, the TextIO is in an\n",
      " |      unusable state.\n",
      " |  \n",
      " |  fileno(self, /)\n",
      " |      Returns underlying file descriptor if one exists.\n",
      " |      \n",
      " |      OSError is raised if the IO object does not use a file descriptor.\n",
      " |  \n",
      " |  flush(self, /)\n",
      " |      Flush write buffers, if applicable.\n",
      " |      \n",
      " |      This is not implemented for read-only and non-blocking streams.\n",
      " |  \n",
      " |  isatty(self, /)\n",
      " |      Return whether this is an 'interactive' stream.\n",
      " |      \n",
      " |      Return False if it can't be determined.\n",
      " |  \n",
      " |  read(self, size=-1, /)\n",
      " |      Read at most n characters from stream.\n",
      " |      \n",
      " |      Read from underlying buffer until we have n characters or we hit EOF.\n",
      " |      If n is negative or omitted, read until EOF.\n",
      " |  \n",
      " |  readable(self, /)\n",
      " |      Return whether object was opened for reading.\n",
      " |      \n",
      " |      If False, read() will raise OSError.\n",
      " |  \n",
      " |  readline(self, size=-1, /)\n",
      " |      Read until newline or EOF.\n",
      " |      \n",
      " |      Returns an empty string if EOF is hit immediately.\n",
      " |  \n",
      " |  reconfigure(self, /, *, encoding=None, errors=None, newline=None, line_buffering=None, write_through=None)\n",
      " |      Reconfigure the text stream with new parameters.\n",
      " |      \n",
      " |      This also does an implicit stream flush.\n",
      " |  \n",
      " |  seek(self, cookie, whence=0, /)\n",
      " |      Change stream position.\n",
      " |      \n",
      " |      Change the stream position to the given byte offset. The offset is\n",
      " |      interpreted relative to the position indicated by whence.  Values\n",
      " |      for whence are:\n",
      " |      \n",
      " |      * 0 -- start of stream (the default); offset should be zero or positive\n",
      " |      * 1 -- current stream position; offset may be negative\n",
      " |      * 2 -- end of stream; offset is usually negative\n",
      " |      \n",
      " |      Return the new absolute position.\n",
      " |  \n",
      " |  seekable(self, /)\n",
      " |      Return whether object supports random access.\n",
      " |      \n",
      " |      If False, seek(), tell() and truncate() will raise OSError.\n",
      " |      This method may need to do a test seek().\n",
      " |  \n",
      " |  tell(self, /)\n",
      " |      Return current stream position.\n",
      " |  \n",
      " |  truncate(self, pos=None, /)\n",
      " |      Truncate file to size bytes.\n",
      " |      \n",
      " |      File pointer is left unchanged.  Size defaults to the current IO\n",
      " |      position as reported by tell().  Returns the new size.\n",
      " |  \n",
      " |  writable(self, /)\n",
      " |      Return whether object was opened for writing.\n",
      " |      \n",
      " |      If False, write() will raise OSError.\n",
      " |  \n",
      " |  write(self, text, /)\n",
      " |      Write string to stream.\n",
      " |      Returns the number of characters written (which is always equal to\n",
      " |      the length of the string).\n",
      " |  \n",
      " |  ----------------------------------------------------------------------\n",
      " |  Static methods defined here:\n",
      " |  \n",
      " |  __new__(*args, **kwargs) from builtins.type\n",
      " |      Create and return a new object.  See help(type) for accurate signature.\n",
      " |  \n",
      " |  ----------------------------------------------------------------------\n",
      " |  Data descriptors defined here:\n",
      " |  \n",
      " |  buffer\n",
      " |  \n",
      " |  closed\n",
      " |  \n",
      " |  encoding\n",
      " |      Encoding of the text stream.\n",
      " |      \n",
      " |      Subclasses should override.\n",
      " |  \n",
      " |  errors\n",
      " |      The error setting of the decoder or encoder.\n",
      " |      \n",
      " |      Subclasses should override.\n",
      " |  \n",
      " |  line_buffering\n",
      " |  \n",
      " |  name\n",
      " |  \n",
      " |  newlines\n",
      " |      Line endings translated so far.\n",
      " |      \n",
      " |      Only line endings translated during reading are considered.\n",
      " |      \n",
      " |      Subclasses should override.\n",
      " |  \n",
      " |  write_through\n",
      " |  \n",
      " |  ----------------------------------------------------------------------\n",
      " |  Methods inherited from _IOBase:\n",
      " |  \n",
      " |  __del__(...)\n",
      " |  \n",
      " |  __enter__(...)\n",
      " |  \n",
      " |  __exit__(...)\n",
      " |  \n",
      " |  __iter__(self, /)\n",
      " |      Implement iter(self).\n",
      " |  \n",
      " |  readlines(self, hint=-1, /)\n",
      " |      Return a list of lines from the stream.\n",
      " |      \n",
      " |      hint can be specified to control the number of lines read: no more\n",
      " |      lines will be read if the total size (in bytes/characters) of all\n",
      " |      lines so far exceeds hint.\n",
      " |  \n",
      " |  writelines(self, lines, /)\n",
      " |      Write a list of lines to stream.\n",
      " |      \n",
      " |      Line separators are not added, so it is usual for each of the\n",
      " |      lines provided to have a line separator at the end.\n",
      " |  \n",
      " |  ----------------------------------------------------------------------\n",
      " |  Data descriptors inherited from _IOBase:\n",
      " |  \n",
      " |  __dict__\n",
      "\n"
     ]
    }
   ],
   "source": [
    "help(file)"
   ]
  },
  {
   "cell_type": "code",
   "execution_count": 172,
   "metadata": {},
   "outputs": [
    {
     "name": "stdout",
     "output_type": "stream",
     "text": [
      "ï»¿Hawkins, Derek        derek@codingtemple.com        (555) 555-5555        Teacher, Coding Temple        @derekhawkins\n",
      "Stanton, Brian        brians@codingtemple.com        (555) 555-5554        Teacher, Coding Temple\n",
      "Johnson, Joe        joejohnson@codingtemple.com                Johson, Joe\n",
      "Osterberg, Sven-Erik        governor@norrbotten.co.se                Governor, Norrbotten        @sverik\n",
      ", Tim        tim@killerrabbit.com                Enchanter, Killer Rabbit Cave\n",
      "Butz, Ryan        ryanb@codingtemple.com        (555) 555-5543        CEO, Coding Temple        @ryanbutz\n",
      "Doctor, The        doctor+companion@tardis.co.uk                Time Lord, Gallifrey\n",
      "Exampleson, Example        me@example.com        555-555-5552        Example, Example Co.        @example\n",
      "Pael, Ripal        ripalp@codingtemple.com        (555) 555-5553        Teacher, Coding Temple        @ripalp\n",
      "Vader, Darth        darth-vader@empire.gov        (555) 555-4444        Sith Lord, Galactic Empire        @darthvader\n",
      "Fernandez de la Vega Sanz, Maria Teresa        mtfvs@spain.gov                First Deputy Prime Minister, Spanish Gov\n"
     ]
    }
   ],
   "source": [
    "data = file.read()\n",
    "\n",
    "print(data)"
   ]
  },
  {
   "cell_type": "code",
   "execution_count": 174,
   "metadata": {},
   "outputs": [],
   "source": [
    "file.close()"
   ]
  },
  {
   "cell_type": "code",
   "execution_count": 175,
   "metadata": {},
   "outputs": [
    {
     "ename": "ValueError",
     "evalue": "I/O operation on closed file.",
     "output_type": "error",
     "traceback": [
      "\u001b[1;31m---------------------------------------------------------------------------\u001b[0m",
      "\u001b[1;31mValueError\u001b[0m                                Traceback (most recent call last)",
      "\u001b[1;32m<ipython-input-175-f3fc120c03c1>\u001b[0m in \u001b[0;36m<module>\u001b[1;34m\u001b[0m\n\u001b[1;32m----> 1\u001b[1;33m \u001b[0mfile\u001b[0m\u001b[1;33m.\u001b[0m\u001b[0mread\u001b[0m\u001b[1;33m(\u001b[0m\u001b[1;33m)\u001b[0m\u001b[1;33m\u001b[0m\u001b[1;33m\u001b[0m\u001b[0m\n\u001b[0m",
      "\u001b[1;31mValueError\u001b[0m: I/O operation on closed file."
     ]
    }
   ],
   "source": [
    "file.read()"
   ]
  },
  {
   "cell_type": "markdown",
   "metadata": {},
   "source": [
    "##### with open()"
   ]
  },
  {
   "cell_type": "code",
   "execution_count": 176,
   "metadata": {
    "scrolled": true
   },
   "outputs": [
    {
     "name": "stdout",
     "output_type": "stream",
     "text": [
      "ï»¿Hawkins, Derek        derek@codingtemple.com        (555) 555-5555        Teacher, Coding Temple        @derekhawkins\n",
      "Stanton, Brian        brians@codingtemple.com        (555) 555-5554        Teacher, Coding Temple\n",
      "Johnson, Joe        joejohnson@codingtemple.com                Johson, Joe\n",
      "Osterberg, Sven-Erik        governor@norrbotten.co.se                Governor, Norrbotten        @sverik\n",
      ", Tim        tim@killerrabbit.com                Enchanter, Killer Rabbit Cave\n",
      "Butz, Ryan        ryanb@codingtemple.com        (555) 555-5543        CEO, Coding Temple        @ryanbutz\n",
      "Doctor, The        doctor+companion@tardis.co.uk                Time Lord, Gallifrey\n",
      "Exampleson, Example        me@example.com        555-555-5552        Example, Example Co.        @example\n",
      "Pael, Ripal        ripalp@codingtemple.com        (555) 555-5553        Teacher, Coding Temple        @ripalp\n",
      "Vader, Darth        darth-vader@empire.gov        (555) 555-4444        Sith Lord, Galactic Empire        @darthvader\n",
      "Fernandez de la Vega Sanz, Maria Teresa        mtfvs@spain.gov                First Deputy Prime Minister, Spanish Gov\n"
     ]
    }
   ],
   "source": [
    "with open('names.txt') as new_file:\n",
    "    data2 = new_file.read()\n",
    "    print(data2)"
   ]
  },
  {
   "cell_type": "code",
   "execution_count": 177,
   "metadata": {
    "scrolled": true
   },
   "outputs": [
    {
     "ename": "ValueError",
     "evalue": "I/O operation on closed file.",
     "output_type": "error",
     "traceback": [
      "\u001b[1;31m---------------------------------------------------------------------------\u001b[0m",
      "\u001b[1;31mValueError\u001b[0m                                Traceback (most recent call last)",
      "\u001b[1;32m<ipython-input-177-778738246546>\u001b[0m in \u001b[0;36m<module>\u001b[1;34m\u001b[0m\n\u001b[1;32m----> 1\u001b[1;33m \u001b[0mnew_file\u001b[0m\u001b[1;33m.\u001b[0m\u001b[0mread\u001b[0m\u001b[1;33m(\u001b[0m\u001b[1;33m)\u001b[0m\u001b[1;33m\u001b[0m\u001b[1;33m\u001b[0m\u001b[0m\n\u001b[0m",
      "\u001b[1;31mValueError\u001b[0m: I/O operation on closed file."
     ]
    }
   ],
   "source": [
    "new_file.read()"
   ]
  },
  {
   "cell_type": "code",
   "execution_count": 178,
   "metadata": {
    "scrolled": true
   },
   "outputs": [
    {
     "data": {
      "text/plain": [
       "'ï»¿Hawkins, Derek        derek@codingtemple.com        (555) 555-5555        Teacher, Coding Temple        @derekhawkins\\nStanton, Brian        brians@codingtemple.com        (555) 555-5554        Teacher, Coding Temple\\nJohnson, Joe        joejohnson@codingtemple.com                Johson, Joe\\nOsterberg, Sven-Erik        governor@norrbotten.co.se                Governor, Norrbotten        @sverik\\n, Tim        tim@killerrabbit.com                Enchanter, Killer Rabbit Cave\\nButz, Ryan        ryanb@codingtemple.com        (555) 555-5543        CEO, Coding Temple        @ryanbutz\\nDoctor, The        doctor+companion@tardis.co.uk                Time Lord, Gallifrey\\nExampleson, Example        me@example.com        555-555-5552        Example, Example Co.        @example\\nPael, Ripal        ripalp@codingtemple.com        (555) 555-5553        Teacher, Coding Temple        @ripalp\\nVader, Darth        darth-vader@empire.gov        (555) 555-4444        Sith Lord, Galactic Empire        @darthvader\\nFernandez de la Vega Sanz, Maria Teresa        mtfvs@spain.gov                First Deputy Prime Minister, Spanish Gov'"
      ]
     },
     "execution_count": 178,
     "metadata": {},
     "output_type": "execute_result"
    }
   ],
   "source": [
    "data2"
   ]
  },
  {
   "cell_type": "code",
   "execution_count": 179,
   "metadata": {},
   "outputs": [
    {
     "name": "stdout",
     "output_type": "stream",
     "text": [
      "<class 'str'>\n"
     ]
    }
   ],
   "source": [
    "print(type(data2))"
   ]
  },
  {
   "cell_type": "markdown",
   "metadata": {},
   "source": [
    "##### re.match()"
   ]
  },
  {
   "cell_type": "code",
   "execution_count": 181,
   "metadata": {},
   "outputs": [
    {
     "data": {
      "text/plain": [
       "<re.Match object; span=(0, 1), match='ï'>"
      ]
     },
     "execution_count": 181,
     "metadata": {},
     "output_type": "execute_result"
    }
   ],
   "source": [
    "re.match('\\w+', data)"
   ]
  },
  {
   "cell_type": "markdown",
   "metadata": {},
   "source": [
    "##### re.search()"
   ]
  },
  {
   "cell_type": "code",
   "execution_count": 184,
   "metadata": {
    "scrolled": true
   },
   "outputs": [],
   "source": [
    "x = re.search('Ripal', data)"
   ]
  },
  {
   "cell_type": "code",
   "execution_count": 185,
   "metadata": {
    "scrolled": true
   },
   "outputs": [
    {
     "data": {
      "text/plain": [
       "'Ripal'"
      ]
     },
     "execution_count": 185,
     "metadata": {},
     "output_type": "execute_result"
    }
   ],
   "source": [
    "data[781:786]"
   ]
  },
  {
   "cell_type": "code",
   "execution_count": 187,
   "metadata": {
    "scrolled": false
   },
   "outputs": [
    {
     "data": {
      "text/plain": [
       "(781, 786)"
      ]
     },
     "execution_count": 187,
     "metadata": {},
     "output_type": "execute_result"
    }
   ],
   "source": [
    "# .span() is a tuple of found re\n",
    "x.span()"
   ]
  },
  {
   "cell_type": "markdown",
   "metadata": {},
   "source": [
    "##### Store the String to a Variable"
   ]
  },
  {
   "cell_type": "code",
   "execution_count": 189,
   "metadata": {},
   "outputs": [
    {
     "name": "stdout",
     "output_type": "stream",
     "text": [
      "For what would you like to search? a\n",
      "i found a in the data from index 4 to 5\n"
     ]
    }
   ],
   "source": [
    "answer = input(\"For what would you like to search? \")\n",
    "\n",
    "found = re.search(answer, data)\n",
    "\n",
    "if found:\n",
    "    span_tuple = found.span()\n",
    "    print(f\"i found {answer} in the data from index {span_tuple[0]} to {span_tuple[-1]}\")\n"
   ]
  },
  {
   "cell_type": "markdown",
   "metadata": {},
   "source": [
    "### In-Class Exercise #3 <br>\n",
    "<p>Print each persons name and twitter handle, using groups, should look like:</p>\n",
    "<p>==============<br>\n",
    "   Full Name / Twitter<br>\n",
    "   ==============</p>\n",
    "Derek Hawkins / @derekhawkins\n",
    "\n",
    " Erik Sven-Osterberg / @sverik\n",
    "\n",
    " Ryan Butz / @ryanbutz\n",
    "\n",
    " Example Exampleson / @example\n",
    "\n",
    " Ripal Pael / @ripalp\n",
    "\n",
    " Darth Vader / @darthvader"
   ]
  },
  {
   "cell_type": "code",
   "execution_count": null,
   "metadata": {
    "scrolled": true
   },
   "outputs": [],
   "source": []
  },
  {
   "cell_type": "markdown",
   "metadata": {},
   "source": [
    "### Regex project\n",
    "\n",
    "Use python to read the file regex_test.txt and print the last name on each line using regular expressions and groups (return None for names with no first and last name, or names that aren't properly capitalized)\n",
    "##### Hint: use with open() and readlines()"
   ]
  },
  {
   "cell_type": "code",
   "execution_count": null,
   "metadata": {},
   "outputs": [],
   "source": [
    "\"\"\"\n",
    "Expected Output\n",
    "Abraham Lincoln\n",
    "Andrew P Garfield\n",
    "Connor Milliken\n",
    "Jordan Alexander Williams\n",
    "None\n",
    "None\n",
    "\"\"\""
   ]
  },
  {
   "cell_type": "code",
   "execution_count": 201,
   "metadata": {},
   "outputs": [],
   "source": [
    "file = open('regex_test.txt')"
   ]
  },
  {
   "cell_type": "code",
   "execution_count": 200,
   "metadata": {
    "scrolled": true
   },
   "outputs": [
    {
     "ename": "ValueError",
     "evalue": "I/O operation on closed file.",
     "output_type": "error",
     "traceback": [
      "\u001b[1;31m---------------------------------------------------------------------------\u001b[0m",
      "\u001b[1;31mValueError\u001b[0m                                Traceback (most recent call last)",
      "\u001b[1;32m<ipython-input-200-5d3c54c9c0d3>\u001b[0m in \u001b[0;36m<module>\u001b[1;34m\u001b[0m\n\u001b[1;32m----> 1\u001b[1;33m \u001b[0mfile\u001b[0m\u001b[1;33m.\u001b[0m\u001b[0mreadlines\u001b[0m\u001b[1;33m(\u001b[0m\u001b[1;33m)\u001b[0m\u001b[1;33m\u001b[0m\u001b[1;33m\u001b[0m\u001b[0m\n\u001b[0m",
      "\u001b[1;31mValueError\u001b[0m: I/O operation on closed file."
     ]
    }
   ],
   "source": [
    "file.read()"
   ]
  },
  {
   "cell_type": "code",
   "execution_count": 199,
   "metadata": {},
   "outputs": [],
   "source": [
    "file.close()"
   ]
  },
  {
   "cell_type": "code",
   "execution_count": null,
   "metadata": {},
   "outputs": [],
   "source": []
  }
 ],
 "metadata": {
  "kernelspec": {
   "display_name": "Python 3",
   "language": "python",
   "name": "python3"
  },
  "language_info": {
   "codemirror_mode": {
    "name": "ipython",
    "version": 3
   },
   "file_extension": ".py",
   "mimetype": "text/x-python",
   "name": "python",
   "nbconvert_exporter": "python",
   "pygments_lexer": "ipython3",
   "version": "3.8.3"
  }
 },
 "nbformat": 4,
 "nbformat_minor": 2
}
